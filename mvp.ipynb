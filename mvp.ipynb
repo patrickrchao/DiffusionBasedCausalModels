{
 "cells": [
  {
   "cell_type": "markdown",
   "id": "ebe3b3ab",
   "metadata": {},
   "source": [
    "## Example with Custom Data"
   ]
  },
  {
   "cell_type": "code",
   "execution_count": 1,
   "id": "1abba87b",
   "metadata": {},
   "outputs": [
    {
     "name": "stderr",
     "output_type": "stream",
     "text": [
      "/opt/anaconda3/lib/python3.7/site-packages/statsmodels/tools/_testing.py:19: FutureWarning: pandas.util.testing is deprecated. Use the functions in the public API at pandas.testing instead.\n",
      "  import pandas.util.testing as tm\n"
     ]
    },
    {
     "data": {
      "text/html": [
       "<div>\n",
       "<style scoped>\n",
       "    .dataframe tbody tr th:only-of-type {\n",
       "        vertical-align: middle;\n",
       "    }\n",
       "\n",
       "    .dataframe tbody tr th {\n",
       "        vertical-align: top;\n",
       "    }\n",
       "\n",
       "    .dataframe thead th {\n",
       "        text-align: right;\n",
       "    }\n",
       "</style>\n",
       "<table border=\"1\" class=\"dataframe\">\n",
       "  <thead>\n",
       "    <tr style=\"text-align: right;\">\n",
       "      <th></th>\n",
       "      <th>x1</th>\n",
       "      <th>x2</th>\n",
       "      <th>x3</th>\n",
       "    </tr>\n",
       "  </thead>\n",
       "  <tbody>\n",
       "    <tr>\n",
       "      <th>0</th>\n",
       "      <td>1.080419</td>\n",
       "      <td>0.209818</td>\n",
       "      <td>1.714534</td>\n",
       "    </tr>\n",
       "    <tr>\n",
       "      <th>1</th>\n",
       "      <td>-2.072334</td>\n",
       "      <td>-1.348848</td>\n",
       "      <td>-3.314112</td>\n",
       "    </tr>\n",
       "    <tr>\n",
       "      <th>2</th>\n",
       "      <td>1.301027</td>\n",
       "      <td>1.155196</td>\n",
       "      <td>1.714924</td>\n",
       "    </tr>\n",
       "    <tr>\n",
       "      <th>3</th>\n",
       "      <td>1.802104</td>\n",
       "      <td>0.857641</td>\n",
       "      <td>2.054792</td>\n",
       "    </tr>\n",
       "    <tr>\n",
       "      <th>4</th>\n",
       "      <td>0.408486</td>\n",
       "      <td>0.814797</td>\n",
       "      <td>2.950110</td>\n",
       "    </tr>\n",
       "  </tbody>\n",
       "</table>\n",
       "</div>"
      ],
      "text/plain": [
       "         x1        x2        x3\n",
       "0  1.080419  0.209818  1.714534\n",
       "1 -2.072334 -1.348848 -3.314112\n",
       "2  1.301027  1.155196  1.714924\n",
       "3  1.802104  0.857641  2.054792\n",
       "4  0.408486  0.814797  2.950110"
      ]
     },
     "execution_count": 1,
     "metadata": {},
     "output_type": "execute_result"
    }
   ],
   "source": [
    "import numpy as np \n",
    "import pandas as pd\n",
    "import networkx as nx \n",
    "from model.diffusion import create_model_from_graph\n",
    "import dowhy.gcm as cy\n",
    "from dowhy.gcm  import draw_samples, interventional_samples, counterfactual_samples\n",
    "\n",
    "n = 1000\n",
    "x1 = np.random.normal(size=(n))\n",
    "x2 = x1 + np.random.normal(size=(n)) \n",
    "x3 = x1 + x2 + np.random.normal(size=(n)) \n",
    "graph = nx.DiGraph([('x1', 'x2'), ('x1', 'x3'), ('x2','x3')])\n",
    "factual = pd.DataFrame({\"x1\" : x1, \"x2\" : x2, \"x3\" : x3})\n",
    "factual.head()\n"
   ]
  },
  {
   "cell_type": "code",
   "execution_count": 2,
   "id": "da15431e",
   "metadata": {},
   "outputs": [
    {
     "name": "stderr",
     "output_type": "stream",
     "text": [
      "Fitting causal mechanism of node x3: 100%|██████████| 3/3 [00:05<00:00,  1.96s/it]\n"
     ]
    }
   ],
   "source": [
    "params = {'num_epochs' : 200,\n",
    "          'lr' : 1e-4,\n",
    "          'batch_size': 64,\n",
    "          'hidden_dim' : 64}\n",
    "\n",
    "diff_model = create_model_from_graph(graph, params)\n",
    "\n",
    "cy.fit(diff_model, factual)"
   ]
  },
  {
   "cell_type": "code",
   "execution_count": 3,
   "id": "8af2d0a0",
   "metadata": {},
   "outputs": [
    {
     "data": {
      "text/html": [
       "<div>\n",
       "<style scoped>\n",
       "    .dataframe tbody tr th:only-of-type {\n",
       "        vertical-align: middle;\n",
       "    }\n",
       "\n",
       "    .dataframe tbody tr th {\n",
       "        vertical-align: top;\n",
       "    }\n",
       "\n",
       "    .dataframe thead th {\n",
       "        text-align: right;\n",
       "    }\n",
       "</style>\n",
       "<table border=\"1\" class=\"dataframe\">\n",
       "  <thead>\n",
       "    <tr style=\"text-align: right;\">\n",
       "      <th></th>\n",
       "      <th>x1</th>\n",
       "      <th>x2</th>\n",
       "      <th>x3</th>\n",
       "    </tr>\n",
       "  </thead>\n",
       "  <tbody>\n",
       "    <tr>\n",
       "      <th>0</th>\n",
       "      <td>0.242151</td>\n",
       "      <td>0.602441</td>\n",
       "      <td>0.697818</td>\n",
       "    </tr>\n",
       "    <tr>\n",
       "      <th>1</th>\n",
       "      <td>1.147019</td>\n",
       "      <td>-0.573428</td>\n",
       "      <td>-0.589873</td>\n",
       "    </tr>\n",
       "    <tr>\n",
       "      <th>2</th>\n",
       "      <td>0.560376</td>\n",
       "      <td>0.019936</td>\n",
       "      <td>-0.248564</td>\n",
       "    </tr>\n",
       "    <tr>\n",
       "      <th>3</th>\n",
       "      <td>1.036918</td>\n",
       "      <td>0.492662</td>\n",
       "      <td>0.826894</td>\n",
       "    </tr>\n",
       "    <tr>\n",
       "      <th>4</th>\n",
       "      <td>0.173450</td>\n",
       "      <td>-0.547257</td>\n",
       "      <td>-0.620032</td>\n",
       "    </tr>\n",
       "  </tbody>\n",
       "</table>\n",
       "</div>"
      ],
      "text/plain": [
       "         x1        x2        x3\n",
       "0  0.242151  0.602441  0.697818\n",
       "1  1.147019 -0.573428 -0.589873\n",
       "2  0.560376  0.019936 -0.248564\n",
       "3  1.036918  0.492662  0.826894\n",
       "4  0.173450 -0.547257 -0.620032"
      ]
     },
     "execution_count": 3,
     "metadata": {},
     "output_type": "execute_result"
    }
   ],
   "source": [
    "# Observational Samples\n",
    "obs_samples = draw_samples(diff_model, num_samples = 20)\n",
    "obs_samples.head()"
   ]
  },
  {
   "cell_type": "code",
   "execution_count": 4,
   "id": "2a140c90",
   "metadata": {},
   "outputs": [
    {
     "data": {
      "text/html": [
       "<div>\n",
       "<style scoped>\n",
       "    .dataframe tbody tr th:only-of-type {\n",
       "        vertical-align: middle;\n",
       "    }\n",
       "\n",
       "    .dataframe tbody tr th {\n",
       "        vertical-align: top;\n",
       "    }\n",
       "\n",
       "    .dataframe thead th {\n",
       "        text-align: right;\n",
       "    }\n",
       "</style>\n",
       "<table border=\"1\" class=\"dataframe\">\n",
       "  <thead>\n",
       "    <tr style=\"text-align: right;\">\n",
       "      <th></th>\n",
       "      <th>x1</th>\n",
       "      <th>x2</th>\n",
       "      <th>x3</th>\n",
       "    </tr>\n",
       "  </thead>\n",
       "  <tbody>\n",
       "    <tr>\n",
       "      <th>0</th>\n",
       "      <td>2</td>\n",
       "      <td>1.211636</td>\n",
       "      <td>3.109947</td>\n",
       "    </tr>\n",
       "    <tr>\n",
       "      <th>1</th>\n",
       "      <td>2</td>\n",
       "      <td>2.056405</td>\n",
       "      <td>5.458492</td>\n",
       "    </tr>\n",
       "    <tr>\n",
       "      <th>2</th>\n",
       "      <td>2</td>\n",
       "      <td>2.074754</td>\n",
       "      <td>5.663898</td>\n",
       "    </tr>\n",
       "    <tr>\n",
       "      <th>3</th>\n",
       "      <td>2</td>\n",
       "      <td>1.536017</td>\n",
       "      <td>2.445876</td>\n",
       "    </tr>\n",
       "    <tr>\n",
       "      <th>4</th>\n",
       "      <td>2</td>\n",
       "      <td>3.226298</td>\n",
       "      <td>6.365125</td>\n",
       "    </tr>\n",
       "  </tbody>\n",
       "</table>\n",
       "</div>"
      ],
      "text/plain": [
       "   x1        x2        x3\n",
       "0   2  1.211636  3.109947\n",
       "1   2  2.056405  5.458492\n",
       "2   2  2.074754  5.663898\n",
       "3   2  1.536017  2.445876\n",
       "4   2  3.226298  6.365125"
      ]
     },
     "execution_count": 4,
     "metadata": {},
     "output_type": "execute_result"
    }
   ],
   "source": [
    "intervention = {\"x1\": lambda x: 2}\n",
    "int_samples = interventional_samples(diff_model, intervention, num_samples_to_draw=20)\n",
    "int_samples.head()"
   ]
  },
  {
   "cell_type": "code",
   "execution_count": 5,
   "id": "9a8e7015",
   "metadata": {},
   "outputs": [
    {
     "data": {
      "text/html": [
       "<div>\n",
       "<style scoped>\n",
       "    .dataframe tbody tr th:only-of-type {\n",
       "        vertical-align: middle;\n",
       "    }\n",
       "\n",
       "    .dataframe tbody tr th {\n",
       "        vertical-align: top;\n",
       "    }\n",
       "\n",
       "    .dataframe thead th {\n",
       "        text-align: right;\n",
       "    }\n",
       "</style>\n",
       "<table border=\"1\" class=\"dataframe\">\n",
       "  <thead>\n",
       "    <tr style=\"text-align: right;\">\n",
       "      <th></th>\n",
       "      <th>x1</th>\n",
       "      <th>x2</th>\n",
       "      <th>x3</th>\n",
       "    </tr>\n",
       "  </thead>\n",
       "  <tbody>\n",
       "    <tr>\n",
       "      <th>0</th>\n",
       "      <td>2</td>\n",
       "      <td>1.041874</td>\n",
       "      <td>3.504380</td>\n",
       "    </tr>\n",
       "    <tr>\n",
       "      <th>1</th>\n",
       "      <td>2</td>\n",
       "      <td>2.426617</td>\n",
       "      <td>4.643862</td>\n",
       "    </tr>\n",
       "    <tr>\n",
       "      <th>2</th>\n",
       "      <td>2</td>\n",
       "      <td>1.795991</td>\n",
       "      <td>3.238968</td>\n",
       "    </tr>\n",
       "    <tr>\n",
       "      <th>3</th>\n",
       "      <td>2</td>\n",
       "      <td>1.050746</td>\n",
       "      <td>2.487216</td>\n",
       "    </tr>\n",
       "    <tr>\n",
       "      <th>4</th>\n",
       "      <td>2</td>\n",
       "      <td>2.297843</td>\n",
       "      <td>6.336059</td>\n",
       "    </tr>\n",
       "  </tbody>\n",
       "</table>\n",
       "</div>"
      ],
      "text/plain": [
       "   x1        x2        x3\n",
       "0   2  1.041874  3.504380\n",
       "1   2  2.426617  4.643862\n",
       "2   2  1.795991  3.238968\n",
       "3   2  1.050746  2.487216\n",
       "4   2  2.297843  6.336059"
      ]
     },
     "execution_count": 5,
     "metadata": {},
     "output_type": "execute_result"
    }
   ],
   "source": [
    "cf_estimates = counterfactual_samples(diff_model, intervention, observed_data = factual)\n",
    "cf_estimates.head()"
   ]
  },
  {
   "cell_type": "code",
   "execution_count": 6,
   "id": "401157d1",
   "metadata": {},
   "outputs": [
    {
     "data": {
      "image/png": "[encoded data removed]",
      "text/plain": [
       "<Figure size 432x288 with 1 Axes>"
      ]
     },
     "metadata": {
      "needs_background": "light"
     },
     "output_type": "display_data"
    }
   ],
   "source": [
    "import matplotlib.pyplot as plt \n",
    "ground_truth_x2 = (2 - factual[\"x1\"]) + factual[\"x2\"]\n",
    "ground_truth_x3 = 2 * (2 - factual[\"x1\"]) + factual[\"x3\"]\n",
    "fig, ax = plt.subplots()\n",
    "plt.scatter(ground_truth_x3,cf_estimates[\"x3\"])\n",
    "\n",
    "plt.xlabel(\"Ground Truth\")\n",
    "plt.ylabel(\"DCM Prediction\");"
   ]
  },
  {
   "cell_type": "markdown",
   "id": "f9888e5a",
   "metadata": {},
   "source": [
    "## Example with Prespecified Graph"
   ]
  },
  {
   "cell_type": "code",
   "execution_count": 7,
   "id": "8332832c",
   "metadata": {},
   "outputs": [
    {
     "name": "stderr",
     "output_type": "stream",
     "text": [
      "Fitting causal mechanism of node x4: 100%|██████████| 4/4 [00:00<00:00, 701.80it/s]\n",
      "Fitting causal mechanism of node x4: 100%|██████████| 4/4 [00:04<00:00,  1.12s/it]\n"
     ]
    }
   ],
   "source": [
    "from experiments.structural_equations import *\n",
    "from experiments.data_generation import ExperimentationModel\n",
    "n = 500\n",
    "scm_type = \"diamond\"\n",
    "equations_type = \"nonadditive\"\n",
    "g = get_graph(scm_type)\n",
    "structural_equations, noise_distributions = select_struct_and_noise(equations_type, scm_type)\n",
    "exper_model = ExperimentationModel(g, scm_type, structural_equations, noise_distributions)\n",
    "factual, noise = exper_model.sample(n)\n",
    "\n",
    "\n",
    "\n",
    "diff_model = create_diff_model(scm_type, params)\n",
    "\n",
    "cy.fit(diff_model, factual)"
   ]
  },
  {
   "cell_type": "code",
   "execution_count": 8,
   "id": "65921563",
   "metadata": {},
   "outputs": [
    {
     "data": {
      "text/html": [
       "<div>\n",
       "<style scoped>\n",
       "    .dataframe tbody tr th:only-of-type {\n",
       "        vertical-align: middle;\n",
       "    }\n",
       "\n",
       "    .dataframe tbody tr th {\n",
       "        vertical-align: top;\n",
       "    }\n",
       "\n",
       "    .dataframe thead th {\n",
       "        text-align: right;\n",
       "    }\n",
       "</style>\n",
       "<table border=\"1\" class=\"dataframe\">\n",
       "  <thead>\n",
       "    <tr style=\"text-align: right;\">\n",
       "      <th></th>\n",
       "      <th>x1</th>\n",
       "      <th>x2</th>\n",
       "      <th>x3</th>\n",
       "      <th>x4</th>\n",
       "    </tr>\n",
       "  </thead>\n",
       "  <tbody>\n",
       "    <tr>\n",
       "      <th>0</th>\n",
       "      <td>-0.087256</td>\n",
       "      <td>0.056533</td>\n",
       "      <td>3.155144</td>\n",
       "      <td>-0.764645</td>\n",
       "    </tr>\n",
       "    <tr>\n",
       "      <th>1</th>\n",
       "      <td>1.174429</td>\n",
       "      <td>2.519266</td>\n",
       "      <td>5.068688</td>\n",
       "      <td>-2.671952</td>\n",
       "    </tr>\n",
       "    <tr>\n",
       "      <th>2</th>\n",
       "      <td>0.538098</td>\n",
       "      <td>0.839421</td>\n",
       "      <td>4.260010</td>\n",
       "      <td>-2.360014</td>\n",
       "    </tr>\n",
       "    <tr>\n",
       "      <th>3</th>\n",
       "      <td>1.633835</td>\n",
       "      <td>2.057782</td>\n",
       "      <td>4.502608</td>\n",
       "      <td>-2.698460</td>\n",
       "    </tr>\n",
       "    <tr>\n",
       "      <th>4</th>\n",
       "      <td>-0.688768</td>\n",
       "      <td>1.502286</td>\n",
       "      <td>5.121723</td>\n",
       "      <td>-2.739814</td>\n",
       "    </tr>\n",
       "  </tbody>\n",
       "</table>\n",
       "</div>"
      ],
      "text/plain": [
       "         x1        x2        x3        x4\n",
       "0 -0.087256  0.056533  3.155144 -0.764645\n",
       "1  1.174429  2.519266  5.068688 -2.671952\n",
       "2  0.538098  0.839421  4.260010 -2.360014\n",
       "3  1.633835  2.057782  4.502608 -2.698460\n",
       "4 -0.688768  1.502286  5.121723 -2.739814"
      ]
     },
     "execution_count": 8,
     "metadata": {},
     "output_type": "execute_result"
    }
   ],
   "source": [
    "factual.head()"
   ]
  },
  {
   "cell_type": "code",
   "execution_count": 9,
   "id": "8c3fc832",
   "metadata": {},
   "outputs": [
    {
     "data": {
      "text/html": [
       "<div>\n",
       "<style scoped>\n",
       "    .dataframe tbody tr th:only-of-type {\n",
       "        vertical-align: middle;\n",
       "    }\n",
       "\n",
       "    .dataframe tbody tr th {\n",
       "        vertical-align: top;\n",
       "    }\n",
       "\n",
       "    .dataframe thead th {\n",
       "        text-align: right;\n",
       "    }\n",
       "</style>\n",
       "<table border=\"1\" class=\"dataframe\">\n",
       "  <thead>\n",
       "    <tr style=\"text-align: right;\">\n",
       "      <th></th>\n",
       "      <th>x1</th>\n",
       "      <th>x2</th>\n",
       "      <th>x3</th>\n",
       "      <th>x4</th>\n",
       "    </tr>\n",
       "  </thead>\n",
       "  <tbody>\n",
       "    <tr>\n",
       "      <th>0</th>\n",
       "      <td>2</td>\n",
       "      <td>3.670004</td>\n",
       "      <td>4.108356</td>\n",
       "      <td>-2.690757</td>\n",
       "    </tr>\n",
       "    <tr>\n",
       "      <th>1</th>\n",
       "      <td>2</td>\n",
       "      <td>2.987519</td>\n",
       "      <td>5.194756</td>\n",
       "      <td>-2.401216</td>\n",
       "    </tr>\n",
       "    <tr>\n",
       "      <th>2</th>\n",
       "      <td>2</td>\n",
       "      <td>2.985081</td>\n",
       "      <td>3.569173</td>\n",
       "      <td>-2.583557</td>\n",
       "    </tr>\n",
       "    <tr>\n",
       "      <th>3</th>\n",
       "      <td>2</td>\n",
       "      <td>2.511662</td>\n",
       "      <td>4.272810</td>\n",
       "      <td>-2.771418</td>\n",
       "    </tr>\n",
       "    <tr>\n",
       "      <th>4</th>\n",
       "      <td>2</td>\n",
       "      <td>2.811127</td>\n",
       "      <td>4.155429</td>\n",
       "      <td>-2.899285</td>\n",
       "    </tr>\n",
       "  </tbody>\n",
       "</table>\n",
       "</div>"
      ],
      "text/plain": [
       "   x1        x2        x3        x4\n",
       "0   2  3.670004  4.108356 -2.690757\n",
       "1   2  2.987519  5.194756 -2.401216\n",
       "2   2  2.985081  3.569173 -2.583557\n",
       "3   2  2.511662  4.272810 -2.771418\n",
       "4   2  2.811127  4.155429 -2.899285"
      ]
     },
     "execution_count": 9,
     "metadata": {},
     "output_type": "execute_result"
    }
   ],
   "source": [
    "from dowhy.gcm  import interventional_samples\n",
    "intervention = {\"x1\": lambda x: 2}\n",
    "int_samples = interventional_samples(diff_model, intervention, num_samples_to_draw=20)\n",
    "int_samples.head()"
   ]
  },
  {
   "cell_type": "code",
   "execution_count": 10,
   "id": "d13c1514-8583-4e75-95ed-e190079911d7",
   "metadata": {},
   "outputs": [
    {
     "data": {
      "text/html": [
       "<div>\n",
       "<style scoped>\n",
       "    .dataframe tbody tr th:only-of-type {\n",
       "        vertical-align: middle;\n",
       "    }\n",
       "\n",
       "    .dataframe tbody tr th {\n",
       "        vertical-align: top;\n",
       "    }\n",
       "\n",
       "    .dataframe thead th {\n",
       "        text-align: right;\n",
       "    }\n",
       "</style>\n",
       "<table border=\"1\" class=\"dataframe\">\n",
       "  <thead>\n",
       "    <tr style=\"text-align: right;\">\n",
       "      <th></th>\n",
       "      <th>x1</th>\n",
       "      <th>x2</th>\n",
       "      <th>x3</th>\n",
       "      <th>x4</th>\n",
       "    </tr>\n",
       "  </thead>\n",
       "  <tbody>\n",
       "    <tr>\n",
       "      <th>0</th>\n",
       "      <td>2</td>\n",
       "      <td>2.279446</td>\n",
       "      <td>3.728182</td>\n",
       "      <td>-2.605973</td>\n",
       "    </tr>\n",
       "    <tr>\n",
       "      <th>1</th>\n",
       "      <td>2</td>\n",
       "      <td>4.364803</td>\n",
       "      <td>5.626756</td>\n",
       "      <td>-1.729665</td>\n",
       "    </tr>\n",
       "    <tr>\n",
       "      <th>2</th>\n",
       "      <td>2</td>\n",
       "      <td>3.285627</td>\n",
       "      <td>5.249624</td>\n",
       "      <td>-2.450392</td>\n",
       "    </tr>\n",
       "    <tr>\n",
       "      <th>3</th>\n",
       "      <td>2</td>\n",
       "      <td>2.914311</td>\n",
       "      <td>4.972789</td>\n",
       "      <td>-2.597203</td>\n",
       "    </tr>\n",
       "    <tr>\n",
       "      <th>4</th>\n",
       "      <td>2</td>\n",
       "      <td>4.018981</td>\n",
       "      <td>4.904093</td>\n",
       "      <td>-2.349076</td>\n",
       "    </tr>\n",
       "  </tbody>\n",
       "</table>\n",
       "</div>"
      ],
      "text/plain": [
       "   x1        x2        x3        x4\n",
       "0   2  2.279446  3.728182 -2.605973\n",
       "1   2  4.364803  5.626756 -1.729665\n",
       "2   2  3.285627  5.249624 -2.450392\n",
       "3   2  2.914311  4.972789 -2.597203\n",
       "4   2  4.018981  4.904093 -2.349076"
      ]
     },
     "execution_count": 10,
     "metadata": {},
     "output_type": "execute_result"
    }
   ],
   "source": [
    "from dowhy.gcm  import counterfactual_samples\n",
    "cf_estimates = counterfactual_samples(diff_model, intervention, observed_data = factual)\n",
    "cf_estimates.head()"
   ]
  },
  {
   "cell_type": "code",
   "execution_count": null,
   "id": "b6aec0eb",
   "metadata": {},
   "outputs": [],
   "source": []
  }
 ],
 "metadata": {
  "kernelspec": {
   "display_name": "Python 3.7.4 ('base')",
   "language": "python",
   "name": "python3"
  },
  "language_info": {
   "codemirror_mode": {
    "name": "ipython",
    "version": 3
   },
   "file_extension": ".py",
   "mimetype": "text/x-python",
   "name": "python",
   "nbconvert_exporter": "python",
   "pygments_lexer": "ipython3",
   "version": "3.7.4"
  },
  "vscode": {
   "interpreter": {
    "hash": "40d3a090f54c6569ab1632332b64b2c03c39dcf918b08424e98f38b5ae0af88f"
   }
  }
 },
 "nbformat": 4,
 "nbformat_minor": 5
}
